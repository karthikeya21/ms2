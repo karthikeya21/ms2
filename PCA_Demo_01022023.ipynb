{
 "cells": [
  {
   "cell_type": "code",
   "execution_count": 1,
   "metadata": {
    "id": "2uvwGrFnUZlD"
   },
   "outputs": [],
   "source": [
    "from sklearn.decomposition import PCA\n",
    "import numpy as np\n",
    "import matplotlib.pyplot as plt"
   ]
  },
  {
   "cell_type": "markdown",
   "metadata": {
    "id": "37gNq7KSUihy"
   },
   "source": [
    "Generate Data"
   ]
  },
  {
   "cell_type": "code",
   "execution_count": 2,
   "metadata": {
    "id": "gzwXYqfCUdWC"
   },
   "outputs": [],
   "source": [
    "#generate some data\n",
    "X = np.random.normal(0, 1, (100, 4))\n",
    "X[:,2] = 3 * X[:,0] - 2 * X[:,1] + np.random.normal(0, 0.1, 100)\n",
    "X[:,3] = 1.5 * X[:,0] - 0.5 * X[:,1] + np.random.normal(0, 0.1, 100)"
   ]
  },
  {
   "cell_type": "code",
   "execution_count": 3,
   "metadata": {
    "colab": {
     "base_uri": "https://localhost:8080/"
    },
    "id": "xBN9yPrPUuyg",
    "outputId": "bea52584-90b4-424a-dcf1-92b5aaa5ebd2"
   },
   "outputs": [
    {
     "data": {
      "text/plain": [
       "array([[ 5.66419349e-02,  6.30322398e-02, -1.63175074e-02,\n",
       "         2.63839310e-01],\n",
       "       [-2.15303008e-01,  1.32960730e+00, -3.28186994e+00,\n",
       "        -9.28855467e-01],\n",
       "       [-3.46820399e-01, -3.44615233e-01, -2.26355638e-01,\n",
       "        -5.24893162e-01],\n",
       "       [-4.72863402e-01,  1.38938235e+00, -4.13836148e+00,\n",
       "        -1.26898057e+00],\n",
       "       [-9.07937179e-01, -1.08907844e+00, -6.39538672e-01,\n",
       "        -7.49030228e-01],\n",
       "       [-7.36654921e-01,  2.51288698e-01, -2.99971689e+00,\n",
       "        -1.29169930e+00],\n",
       "       [ 4.58422071e-01,  1.22734906e+00, -1.13592444e+00,\n",
       "        -7.49884107e-02],\n",
       "       [-1.58537629e+00, -1.49398666e-01, -4.34133762e+00,\n",
       "        -2.40245174e+00],\n",
       "       [-9.88413316e-01, -3.39732815e-01, -2.16858330e+00,\n",
       "        -1.30762371e+00],\n",
       "       [-3.49005842e-01, -3.66811709e-01, -3.61073143e-01,\n",
       "        -2.16515829e-01],\n",
       "       [-5.48968838e-01,  6.21499056e-01, -2.98255731e+00,\n",
       "        -1.15057717e+00],\n",
       "       [-1.24134628e+00, -2.46626335e-01, -3.22463605e+00,\n",
       "        -1.84892299e+00],\n",
       "       [-1.04545525e+00,  1.11733273e+00, -5.31050136e+00,\n",
       "        -2.28741660e+00],\n",
       "       [-5.50951327e-01, -1.24894640e+00,  7.71985654e-01,\n",
       "        -3.84539975e-01],\n",
       "       [-1.26571693e+00, -2.44917205e-01, -3.36654374e+00,\n",
       "        -1.80047670e+00],\n",
       "       [-2.38041957e-01,  2.30589453e-01, -1.01442329e+00,\n",
       "        -6.26590270e-01],\n",
       "       [ 2.64602555e+00,  1.45262803e-01,  7.62317987e+00,\n",
       "         3.97406597e+00],\n",
       "       [ 1.00290711e+00, -1.03112471e+00,  5.05438087e+00,\n",
       "         2.08035817e+00],\n",
       "       [-1.91591296e-01,  5.37634143e-01, -1.61381696e+00,\n",
       "        -5.95475284e-01],\n",
       "       [ 1.12187821e+00,  1.56034501e+00,  2.90837344e-01,\n",
       "         7.99895901e-01],\n",
       "       [ 6.39171483e-02, -6.67872706e-01,  1.49435677e+00,\n",
       "         4.54925548e-01],\n",
       "       [-2.50185732e+00,  6.37324207e-02, -7.75225512e+00,\n",
       "        -3.77835574e+00],\n",
       "       [ 9.18975944e-01, -1.38065911e+00,  5.57908122e+00,\n",
       "         2.26742996e+00],\n",
       "       [-4.27189272e-01,  2.88294438e+00, -6.88939097e+00,\n",
       "        -2.00323671e+00],\n",
       "       [-8.53736465e-02, -1.23139623e+00,  2.25863740e+00,\n",
       "         4.11905974e-01],\n",
       "       [ 8.01253848e-01,  1.42919175e+00, -4.22582363e-01,\n",
       "         5.04733106e-01],\n",
       "       [ 1.96530760e+00, -8.97509456e-02,  6.11854153e+00,\n",
       "         2.85899625e+00],\n",
       "       [-1.54661650e+00,  6.85991315e-01, -5.93473764e+00,\n",
       "        -2.80646396e+00],\n",
       "       [-7.79837886e-01,  8.26572684e-01, -3.91266103e+00,\n",
       "        -1.54075256e+00],\n",
       "       [-1.01564509e+00,  1.35534318e+00, -5.71527119e+00,\n",
       "        -2.18583051e+00],\n",
       "       [ 8.27762453e-01, -1.88809158e+00,  6.12344726e+00,\n",
       "         2.26175411e+00],\n",
       "       [-4.67450621e-01, -2.80236313e-01, -9.96450931e-01,\n",
       "        -4.41379146e-01],\n",
       "       [ 5.52419400e-01, -1.41965913e+00,  4.48209884e+00,\n",
       "         1.50888027e+00],\n",
       "       [ 9.90696632e-02,  7.51017502e-02,  1.20015079e-01,\n",
       "         3.71637697e-02],\n",
       "       [ 8.43345702e-02, -8.24472419e-01,  1.80728239e+00,\n",
       "         5.85596683e-01],\n",
       "       [-1.06492944e+00, -1.14198835e+00, -1.07686419e+00,\n",
       "        -9.76598927e-01],\n",
       "       [ 4.49885774e-01, -5.98850138e-01,  2.70955783e+00,\n",
       "         8.22639061e-01],\n",
       "       [ 7.72046394e-01,  8.07551915e-01,  7.85222118e-01,\n",
       "         8.35542937e-01],\n",
       "       [ 3.56585951e-01,  5.60897047e-01, -7.05969101e-02,\n",
       "         3.54795761e-01],\n",
       "       [-9.06518508e-01,  1.24064525e+00, -5.10408462e+00,\n",
       "        -1.99382698e+00],\n",
       "       [-6.31620138e-02,  1.52944667e+00, -3.20002694e+00,\n",
       "        -9.57929040e-01],\n",
       "       [-3.84208423e-01,  1.91868124e+00, -4.86667528e+00,\n",
       "        -1.61996902e+00],\n",
       "       [-1.53443072e+00,  5.57459337e-01, -5.76987144e+00,\n",
       "        -2.33845968e+00],\n",
       "       [ 3.43830352e-01,  1.54236217e+00, -2.00874616e+00,\n",
       "        -3.53239865e-01],\n",
       "       [ 5.83981031e-01,  7.08288965e-01,  3.17897316e-01,\n",
       "         3.00740522e-01],\n",
       "       [-1.98162575e+00, -1.16977969e+00, -3.71738690e+00,\n",
       "        -2.47045279e+00],\n",
       "       [-7.29855374e-01,  4.46735361e-01, -3.14474387e+00,\n",
       "        -1.35881359e+00],\n",
       "       [-1.39076659e+00, -1.89942649e-01, -3.90241607e+00,\n",
       "        -2.03506665e+00],\n",
       "       [-8.85500240e-01,  4.35384909e-01, -3.67825873e+00,\n",
       "        -1.71659976e+00],\n",
       "       [-1.34581867e+00,  1.76104703e-01, -4.41661027e+00,\n",
       "        -2.01064266e+00],\n",
       "       [ 5.48065105e-01, -8.84437741e-02,  1.83771950e+00,\n",
       "         8.45533975e-01],\n",
       "       [ 1.01821044e+00,  1.26442321e-01,  2.80105396e+00,\n",
       "         1.54484991e+00],\n",
       "       [-1.33237177e+00,  2.50259873e-01, -4.35939520e+00,\n",
       "        -2.08082171e+00],\n",
       "       [ 2.33451908e+00, -1.03326654e+00,  9.16902465e+00,\n",
       "         4.06912560e+00],\n",
       "       [-6.49851971e-01,  1.08591994e-01, -2.13327747e+00,\n",
       "        -1.13246076e+00],\n",
       "       [-2.10752052e-01,  9.82247010e-01, -2.55764018e+00,\n",
       "        -7.97194455e-01],\n",
       "       [ 5.36284308e-01,  1.37570383e+00, -1.20015706e+00,\n",
       "         1.80111609e-01],\n",
       "       [ 2.17393374e+00,  7.98211559e-03,  6.35317633e+00,\n",
       "         3.30955658e+00],\n",
       "       [-1.10376862e+00,  1.98184214e+00, -7.27965374e+00,\n",
       "        -2.61478575e+00],\n",
       "       [-3.63902559e-01,  1.45395418e+00, -3.93840056e+00,\n",
       "        -1.30439814e+00],\n",
       "       [-1.61066227e-01, -1.42159566e+00,  2.46463819e+00,\n",
       "         3.99230842e-01],\n",
       "       [-1.04550898e+00,  4.51979512e-01, -3.97355579e+00,\n",
       "        -1.73031583e+00],\n",
       "       [ 1.36780809e+00,  6.98691310e-01,  2.73834275e+00,\n",
       "         1.64066698e+00],\n",
       "       [ 1.60931622e+00,  7.44655424e-01,  3.25074862e+00,\n",
       "         2.04528314e+00],\n",
       "       [-2.16015262e+00, -5.49032641e-01, -5.21053669e+00,\n",
       "        -3.03460822e+00],\n",
       "       [-7.97599945e-01,  3.32108817e-03, -2.49306718e+00,\n",
       "        -1.19656263e+00],\n",
       "       [ 1.67661002e-01,  6.85600581e-01, -1.04518141e+00,\n",
       "         7.64551035e-02],\n",
       "       [ 9.24643085e-02, -1.03839759e-01,  5.09213329e-01,\n",
       "         2.93352014e-01],\n",
       "       [ 2.04271957e-01, -1.11078135e+00,  2.92163686e+00,\n",
       "         8.63025002e-01],\n",
       "       [-6.97294431e-01, -4.35510121e-01, -1.25984696e+00,\n",
       "        -8.91381227e-01],\n",
       "       [ 2.70949781e+00, -1.11636600e-01,  8.33192290e+00,\n",
       "         4.17805662e+00],\n",
       "       [-9.00825549e-01,  5.54338515e-01, -3.76903402e+00,\n",
       "        -1.58738540e+00],\n",
       "       [-2.46272283e-02, -7.35826890e-01,  1.72985408e+00,\n",
       "         3.05473103e-01],\n",
       "       [ 1.58244187e+00, -9.52181128e-01,  6.67547688e+00,\n",
       "         2.74504425e+00],\n",
       "       [ 1.37861800e+00,  8.59213807e-02,  4.03649015e+00,\n",
       "         1.94952686e+00],\n",
       "       [ 1.00506372e-01, -1.26226722e+00,  2.73756135e+00,\n",
       "         8.01824671e-01],\n",
       "       [ 9.47751889e-01, -6.83545676e-01,  4.11736460e+00,\n",
       "         1.71557872e+00],\n",
       "       [ 7.17379519e-01,  6.04756572e-01,  9.31843789e-01,\n",
       "         8.69990874e-01],\n",
       "       [ 5.74797154e-01,  9.62242552e-01, -1.63551000e-01,\n",
       "         4.90879394e-01],\n",
       "       [-8.60372259e-02,  2.70246534e+00, -5.60420389e+00,\n",
       "        -1.37393988e+00],\n",
       "       [ 6.33332913e-01,  4.39623030e-01,  1.01816111e+00,\n",
       "         6.76974946e-01],\n",
       "       [ 1.51890201e+00, -7.05586987e-02,  4.61109805e+00,\n",
       "         2.49266576e+00],\n",
       "       [-1.04403259e+00, -7.24794674e-01, -1.50275250e+00,\n",
       "        -1.10740710e+00],\n",
       "       [-4.59519253e-01, -1.61184636e-01, -1.13793530e+00,\n",
       "        -6.55933979e-01],\n",
       "       [ 1.26383426e+00, -6.46356895e-01,  5.18901353e+00,\n",
       "         2.18014356e+00],\n",
       "       [ 5.14746237e-01,  1.78142205e+00, -2.10086766e+00,\n",
       "        -3.11762663e-02],\n",
       "       [-8.13948935e-01, -1.02787318e-01, -2.07230529e+00,\n",
       "        -1.15470212e+00],\n",
       "       [ 1.37068836e+00, -7.82628043e-01,  5.81220474e+00,\n",
       "         2.38999054e+00],\n",
       "       [-6.72893781e-01,  8.58769258e-01, -3.74639484e+00,\n",
       "        -1.17372828e+00],\n",
       "       [-1.33741157e+00, -4.09620970e-01, -3.10998268e+00,\n",
       "        -2.05594556e+00],\n",
       "       [-1.35239116e+00, -2.40434837e-01, -3.55255642e+00,\n",
       "        -1.86010809e+00],\n",
       "       [ 4.07880335e-01, -2.34147833e+00,  5.74115105e+00,\n",
       "         1.74677962e+00],\n",
       "       [-4.92945257e-01, -1.04987611e-01, -1.24648339e+00,\n",
       "        -5.95719538e-01],\n",
       "       [ 2.16088310e-01,  2.51717470e+00, -4.33272545e+00,\n",
       "        -1.03850174e+00],\n",
       "       [-5.03128303e-01,  1.61733775e+00, -4.82719022e+00,\n",
       "        -1.77340992e+00],\n",
       "       [-1.28166100e+00,  5.61114914e-01, -5.10978949e+00,\n",
       "        -2.24677852e+00],\n",
       "       [ 1.19036059e-01,  7.29815848e-01, -9.39430670e-01,\n",
       "        -1.08954287e-01],\n",
       "       [-1.68326617e+00,  1.61135337e+00, -8.11171699e+00,\n",
       "        -3.44672028e+00],\n",
       "       [-1.11822619e+00, -9.65807638e-01, -1.37104232e+00,\n",
       "        -1.33544627e+00],\n",
       "       [-1.48979703e+00, -3.09645439e-01, -3.72181211e+00,\n",
       "        -2.00404539e+00]])"
      ]
     },
     "execution_count": 3,
     "metadata": {},
     "output_type": "execute_result"
    }
   ],
   "source": [
    "X"
   ]
  },
  {
   "cell_type": "code",
   "execution_count": 4,
   "metadata": {
    "id": "d_gQYHEkXjAJ"
   },
   "outputs": [],
   "source": [
    "#each feature will have zero mean\n",
    "X = X - np.mean(X, axis=0)"
   ]
  },
  {
   "cell_type": "code",
   "execution_count": 5,
   "metadata": {
    "colab": {
     "base_uri": "https://localhost:8080/",
     "height": 582
    },
    "id": "OLepKqf6Xkko",
    "outputId": "483a27cc-3500-445d-ac17-217c8516166f"
   },
   "outputs": [
    {
     "data": {
      "image/png": "[encoded data removed]",
      "text/plain": [
       "<Figure size 720x720 with 6 Axes>"
      ]
     },
     "metadata": {
      "needs_background": "light"
     },
     "output_type": "display_data"
    }
   ],
   "source": [
    "plt.figure(figsize=(10,10))\n",
    "for i in range(4):\n",
    "    for j in range(4):\n",
    "        if j > i:\n",
    "            plt.subplot(4,4,i*4+j+1)\n",
    "            plt.scatter(X[:,i], X[:,j])\n",
    "            plt.xlabel(f'x{i+1}', fontsize=20)\n",
    "            plt.ylabel(f'x{j+1}', fontsize=20)\n",
    "plt.tight_layout()"
   ]
  },
  {
   "cell_type": "code",
   "execution_count": null,
   "metadata": {
    "id": "pEhjMV_EXrg-"
   },
   "outputs": [],
   "source": []
  },
  {
   "cell_type": "markdown",
   "metadata": {
    "id": "4ZWGzxV-Xzav"
   },
   "source": [
    "Observations:\n",
    "\n",
    "x1 and x2 do not seem correlated\n",
    "\n",
    "x1 seems very correlated with both x3 and x4\n",
    "\n",
    "x2 seems somewhat correlated with both x3 and x4\n",
    "\n",
    "x3 and x4 seem very correlated"
   ]
  },
  {
   "cell_type": "markdown",
   "metadata": {
    "id": "dVZZYFEoYQCt"
   },
   "source": [
    "Apply PCA"
   ]
  },
  {
   "cell_type": "code",
   "execution_count": 6,
   "metadata": {
    "colab": {
     "base_uri": "https://localhost:8080/"
    },
    "id": "eAmBALMUYRXB",
    "outputId": "a5a68097-5a3e-451a-9539-d2d2699ed84f"
   },
   "outputs": [
    {
     "data": {
      "text/plain": [
       "PCA(n_components=4)"
      ]
     },
     "execution_count": 6,
     "metadata": {},
     "output_type": "execute_result"
    }
   ],
   "source": [
    "#initialize\n",
    "pca = PCA(n_components=4)\n",
    "\n",
    "#fit\n",
    "pca.fit(X)"
   ]
  },
  {
   "cell_type": "code",
   "execution_count": 7,
   "metadata": {
    "id": "Vuj2GKxVYCoD"
   },
   "outputs": [],
   "source": [
    "#get principal components\n",
    "principal_comps_builtin = pca.components_.T"
   ]
  },
  {
   "cell_type": "code",
   "execution_count": 8,
   "metadata": {
    "colab": {
     "base_uri": "https://localhost:8080/"
    },
    "id": "YElRmmd-YYTs",
    "outputId": "fec2b79a-56c2-4f4e-a3a9-a2a7a2f04917"
   },
   "outputs": [
    {
     "name": "stdout",
     "output_type": "stream",
     "text": [
      "principal component 0\n",
      "[ 0.21308798 -0.12596748  0.88920341  0.38476357]\n",
      "\n",
      "principal component 1\n",
      "[ 0.48056924  0.79774881 -0.1464467   0.33347175]\n",
      "\n",
      "principal component 2\n",
      "[-0.17286636 -0.32098984 -0.3731955   0.85311656]\n",
      "\n",
      "principal component 3\n",
      "[-0.83292493  0.4946661   0.22044451  0.11377928]\n",
      "\n"
     ]
    }
   ],
   "source": [
    "#print each principal component\n",
    "for i,component in enumerate(pca.components_):\n",
    "    print(f'principal component {i}')\n",
    "    print(component)\n",
    "    print()"
   ]
  },
  {
   "cell_type": "markdown",
   "metadata": {
    "id": "c5_FTPhsYglx"
   },
   "source": [
    "Can we do this by hand?\n",
    "\n",
    "Principal components are the eigenvectors of the covariance matrix"
   ]
  },
  {
   "cell_type": "code",
   "execution_count": 9,
   "metadata": {
    "id": "x9NjQEB1YdKr"
   },
   "outputs": [],
   "source": [
    "#compute covariance matrix\n",
    "cov_matrix = sum([X[i].reshape(-1,1) @ X[i].reshape(1,-1) for i in range(100)]) / 100"
   ]
  },
  {
   "cell_type": "code",
   "execution_count": 10,
   "metadata": {
    "colab": {
     "base_uri": "https://localhost:8080/"
    },
    "id": "tiFejrTSYoUc",
    "outputId": "bad8c997-5563-463a-be70-afff3e2f1a54"
   },
   "outputs": [
    {
     "data": {
      "text/plain": [
       "array([[ 1.12461301, -0.07593912,  3.52082586,  1.73746109],\n",
       "       [-0.07593912,  1.02258137, -2.25899197, -0.62259965],\n",
       "       [ 3.52082586, -2.25899197, 15.04783049,  6.44174948],\n",
       "       [ 1.73746109, -0.62259965,  6.44174948,  2.94576157]])"
      ]
     },
     "execution_count": 10,
     "metadata": {},
     "output_type": "execute_result"
    }
   ],
   "source": [
    "cov_matrix"
   ]
  },
  {
   "cell_type": "code",
   "execution_count": 11,
   "metadata": {
    "id": "B3rwogDiY4Iz"
   },
   "outputs": [],
   "source": [
    "#eigenvalues and eigenvectors of covariance matrix\n",
    "eigvecs = np.linalg.eig(cov_matrix)"
   ]
  },
  {
   "cell_type": "code",
   "execution_count": 12,
   "metadata": {
    "id": "i6Fz_F_CY7gB"
   },
   "outputs": [],
   "source": [
    "#sort order by magnitude of eigenvalue\n",
    "ordering = np.argsort(eigvecs[0])[::-1]"
   ]
  },
  {
   "cell_type": "code",
   "execution_count": 13,
   "metadata": {
    "id": "7UJkFM96Y_yg"
   },
   "outputs": [],
   "source": [
    "#get eigenvectors\n",
    "principal_comps_byhand = eigvecs[1][:,ordering]"
   ]
  },
  {
   "cell_type": "code",
   "execution_count": 14,
   "metadata": {
    "colab": {
     "base_uri": "https://localhost:8080/"
    },
    "id": "tsAOehxRZD91",
    "outputId": "c8257af6-72a9-4cb9-f476-1a208f30d467"
   },
   "outputs": [
    {
     "data": {
      "text/plain": [
       "array([[ 0.21308798, -0.48056924, -0.17286636, -0.83292493],\n",
       "       [-0.12596748, -0.79774881, -0.32098984,  0.4946661 ],\n",
       "       [ 0.88920341,  0.1464467 , -0.3731955 ,  0.22044451],\n",
       "       [ 0.38476357, -0.33347175,  0.85311656,  0.11377928]])"
      ]
     },
     "execution_count": 14,
     "metadata": {},
     "output_type": "execute_result"
    }
   ],
   "source": [
    "#our by-hand eigenvectors\n",
    "principal_comps_byhand"
   ]
  },
  {
   "cell_type": "code",
   "execution_count": null,
   "metadata": {
    "colab": {
     "base_uri": "https://localhost:8080/"
    },
    "id": "dGTq3m8TZHtk",
    "outputId": "eda420d6-b30c-443d-b73a-4279f84cf385"
   },
   "outputs": [
    {
     "data": {
      "text/plain": [
       "array([[-0.22353436,  0.48095492, -0.22186745,  0.81822344],\n",
       "       [ 0.10921136,  0.8004701 , -0.28241719, -0.51726302],\n",
       "       [-0.88872809, -0.16098757, -0.35318643, -0.2439359 ],\n",
       "       [-0.38505538,  0.31939472,  0.86387193, -0.05869119]])"
      ]
     },
     "execution_count": 15,
     "metadata": {},
     "output_type": "execute_result"
    }
   ],
   "source": [
    "#results from built-in call\n",
    "principal_comps_builtin"
   ]
  },
  {
   "cell_type": "code",
   "execution_count": null,
   "metadata": {
    "id": "JwUrucBLJRfa"
   },
   "outputs": [],
   "source": [
    "import numpy as np\n",
    "from sklearn import decomposition\n",
    "import pandas as pd"
   ]
  },
  {
   "cell_type": "code",
   "execution_count": null,
   "metadata": {
    "id": "chlInH0jNEwz"
   },
   "outputs": [],
   "source": [
    "df1= pd.DataFrame({\n",
    "        'X1':[10,2,8,9,12],\n",
    "        'X2':[20,5,17,20,22],\n",
    "        'X3':[10,2,7,10,11]})"
   ]
  },
  {
   "cell_type": "code",
   "execution_count": null,
   "metadata": {
    "colab": {
     "base_uri": "https://localhost:8080/",
     "height": 206
    },
    "id": "V8RRt86TNJXp",
    "outputId": "26f4af2e-eb75-4c8b-b3a8-ae603c25688d"
   },
   "outputs": [
    {
     "data": {
      "text/html": [
       "\n",
       "  <div id=\"df-5e05dde3-6b8e-4c31-b6c7-5947eb7ee038\">\n",
       "    <div class=\"colab-df-container\">\n",
       "      <div>\n",
       "<style scoped>\n",
       "    .dataframe tbody tr th:only-of-type {\n",
       "        vertical-align: middle;\n",
       "    }\n",
       "\n",
       "    .dataframe tbody tr th {\n",
       "        vertical-align: top;\n",
       "    }\n",
       "\n",
       "    .dataframe thead th {\n",
       "        text-align: right;\n",
       "    }\n",
       "</style>\n",
       "<table border=\"1\" class=\"dataframe\">\n",
       "  <thead>\n",
       "    <tr style=\"text-align: right;\">\n",
       "      <th></th>\n",
       "      <th>X1</th>\n",
       "      <th>X2</th>\n",
       "      <th>X3</th>\n",
       "    </tr>\n",
       "  </thead>\n",
       "  <tbody>\n",
       "    <tr>\n",
       "      <th>0</th>\n",
       "      <td>10</td>\n",
       "      <td>20</td>\n",
       "      <td>10</td>\n",
       "    </tr>\n",
       "    <tr>\n",
       "      <th>1</th>\n",
       "      <td>2</td>\n",
       "      <td>5</td>\n",
       "      <td>2</td>\n",
       "    </tr>\n",
       "    <tr>\n",
       "      <th>2</th>\n",
       "      <td>8</td>\n",
       "      <td>17</td>\n",
       "      <td>7</td>\n",
       "    </tr>\n",
       "    <tr>\n",
       "      <th>3</th>\n",
       "      <td>9</td>\n",
       "      <td>20</td>\n",
       "      <td>10</td>\n",
       "    </tr>\n",
       "    <tr>\n",
       "      <th>4</th>\n",
       "      <td>12</td>\n",
       "      <td>22</td>\n",
       "      <td>11</td>\n",
       "    </tr>\n",
       "  </tbody>\n",
       "</table>\n",
       "</div>\n",
       "      <button class=\"colab-df-convert\" onclick=\"convertToInteractive('df-5e05dde3-6b8e-4c31-b6c7-5947eb7ee038')\"\n",
       "              title=\"Convert this dataframe to an interactive table.\"\n",
       "              style=\"display:none;\">\n",
       "        \n",
       "  <svg xmlns=\"http://www.w3.org/2000/svg\" height=\"24px\"viewBox=\"0 0 24 24\"\n",
       "       width=\"24px\">\n",
       "    <path d=\"M0 0h24v24H0V0z\" fill=\"none\"/>\n",
       "    <path d=\"M18.56 5.44l.94 2.06.94-2.06 2.06-.94-2.06-.94-.94-2.06-.94 2.06-2.06.94zm-11 1L8.5 8.5l.94-2.06 2.06-.94-2.06-.94L8.5 2.5l-.94 2.06-2.06.94zm10 10l.94 2.06.94-2.06 2.06-.94-2.06-.94-.94-2.06-.94 2.06-2.06.94z\"/><path d=\"M17.41 7.96l-1.37-1.37c-.4-.4-.92-.59-1.43-.59-.52 0-1.04.2-1.43.59L10.3 9.45l-7.72 7.72c-.78.78-.78 2.05 0 2.83L4 21.41c.39.39.9.59 1.41.59.51 0 1.02-.2 1.41-.59l7.78-7.78 2.81-2.81c.8-.78.8-2.07 0-2.86zM5.41 20L4 18.59l7.72-7.72 1.47 1.35L5.41 20z\"/>\n",
       "  </svg>\n",
       "      </button>\n",
       "      \n",
       "  <style>\n",
       "    .colab-df-container {\n",
       "      display:flex;\n",
       "      flex-wrap:wrap;\n",
       "      gap: 12px;\n",
       "    }\n",
       "\n",
       "    .colab-df-convert {\n",
       "      background-color: #E8F0FE;\n",
       "      border: none;\n",
       "      border-radius: 50%;\n",
       "      cursor: pointer;\n",
       "      display: none;\n",
       "      fill: #1967D2;\n",
       "      height: 32px;\n",
       "      padding: 0 0 0 0;\n",
       "      width: 32px;\n",
       "    }\n",
       "\n",
       "    .colab-df-convert:hover {\n",
       "      background-color: #E2EBFA;\n",
       "      box-shadow: 0px 1px 2px rgba(60, 64, 67, 0.3), 0px 1px 3px 1px rgba(60, 64, 67, 0.15);\n",
       "      fill: #174EA6;\n",
       "    }\n",
       "\n",
       "    [theme=dark] .colab-df-convert {\n",
       "      background-color: #3B4455;\n",
       "      fill: #D2E3FC;\n",
       "    }\n",
       "\n",
       "    [theme=dark] .colab-df-convert:hover {\n",
       "      background-color: #434B5C;\n",
       "      box-shadow: 0px 1px 3px 1px rgba(0, 0, 0, 0.15);\n",
       "      filter: drop-shadow(0px 1px 2px rgba(0, 0, 0, 0.3));\n",
       "      fill: #FFFFFF;\n",
       "    }\n",
       "  </style>\n",
       "\n",
       "      <script>\n",
       "        const buttonEl =\n",
       "          document.querySelector('#df-5e05dde3-6b8e-4c31-b6c7-5947eb7ee038 button.colab-df-convert');\n",
       "        buttonEl.style.display =\n",
       "          google.colab.kernel.accessAllowed ? 'block' : 'none';\n",
       "\n",
       "        async function convertToInteractive(key) {\n",
       "          const element = document.querySelector('#df-5e05dde3-6b8e-4c31-b6c7-5947eb7ee038');\n",
       "          const dataTable =\n",
       "            await google.colab.kernel.invokeFunction('convertToInteractive',\n",
       "                                                     [key], {});\n",
       "          if (!dataTable) return;\n",
       "\n",
       "          const docLinkHtml = 'Like what you see? Visit the ' +\n",
       "            '<a target=\"_blank\" href=https://colab.research.google.com/notebooks/data_table.ipynb>data table notebook</a>'\n",
       "            + ' to learn more about interactive tables.';\n",
       "          element.innerHTML = '';\n",
       "          dataTable['output_type'] = 'display_data';\n",
       "          await google.colab.output.renderOutput(dataTable, element);\n",
       "          const docLink = document.createElement('div');\n",
       "          docLink.innerHTML = docLinkHtml;\n",
       "          element.appendChild(docLink);\n",
       "        }\n",
       "      </script>\n",
       "    </div>\n",
       "  </div>\n",
       "  "
      ],
      "text/plain": [
       "   X1  X2  X3\n",
       "0  10  20  10\n",
       "1   2   5   2\n",
       "2   8  17   7\n",
       "3   9  20  10\n",
       "4  12  22  11"
      ]
     },
     "execution_count": 3,
     "metadata": {},
     "output_type": "execute_result"
    }
   ],
   "source": [
    "df1"
   ]
  },
  {
   "cell_type": "code",
   "execution_count": null,
   "metadata": {
    "id": "KP-691mGNMjD"
   },
   "outputs": [],
   "source": [
    "pca = decomposition.PCA(n_components=3)"
   ]
  },
  {
   "cell_type": "code",
   "execution_count": null,
   "metadata": {
    "colab": {
     "base_uri": "https://localhost:8080/"
    },
    "id": "oXVpY_6TNWgg",
    "outputId": "78ce874a-d2f5-4461-9865-2de29c8e00d3"
   },
   "outputs": [
    {
     "data": {
      "text/plain": [
       "PCA(n_components=3)"
      ]
     },
     "execution_count": 5,
     "metadata": {},
     "output_type": "execute_result"
    }
   ],
   "source": [
    "pca"
   ]
  },
  {
   "cell_type": "code",
   "execution_count": null,
   "metadata": {
    "colab": {
     "base_uri": "https://localhost:8080/"
    },
    "id": "Ne5GKaI0NZtb",
    "outputId": "2fdab46f-4c1d-48f3-c1a4-707f091c694c"
   },
   "outputs": [
    {
     "data": {
      "text/plain": [
       "PCA(n_components=3)"
      ]
     },
     "execution_count": 6,
     "metadata": {},
     "output_type": "execute_result"
    }
   ],
   "source": [
    "#find eigen values and eigen vectors of covariance matrix of df\n",
    "pca.fit(df1)"
   ]
  },
  {
   "cell_type": "code",
   "execution_count": null,
   "metadata": {
    "id": "OfpPsUGsNfdu"
   },
   "outputs": [],
   "source": [
    "#convert all the data points from standard basis to eigen vector basis\n",
    "df1_pca = pca.transform(df1)\n"
   ]
  },
  {
   "cell_type": "code",
   "execution_count": null,
   "metadata": {
    "colab": {
     "base_uri": "https://localhost:8080/"
    },
    "id": "Ai24r1zRNkMd",
    "outputId": "d06ee8b5-1ae8-4aa0-9c4b-26e377e98ea9"
   },
   "outputs": [
    {
     "data": {
      "text/plain": [
       "array([[-4.17288843e+00, -1.98923940e-04, -2.58847587e-01],\n",
       "       [ 1.46146195e+01, -1.71937350e-01, -2.51663442e-01],\n",
       "       [ 3.51842744e-01,  1.00363798e-01,  9.72694089e-01],\n",
       "       [-3.73883152e+00,  8.99599868e-01, -3.03082462e-01],\n",
       "       [-7.05474229e+00, -8.27827393e-01, -1.59100599e-01]])"
      ]
     },
     "execution_count": 8,
     "metadata": {},
     "output_type": "execute_result"
    }
   ],
   "source": [
    "df1_pca"
   ]
  },
  {
   "cell_type": "code",
   "execution_count": null,
   "metadata": {
    "colab": {
     "base_uri": "https://localhost:8080/"
    },
    "id": "dl__tOe5NqfV",
    "outputId": "cf659feb-eaee-4c40-df5b-5673955cdc5f"
   },
   "outputs": [
    {
     "data": {
      "text/plain": [
       "59.519999999999996"
      ]
     },
     "execution_count": 9,
     "metadata": {},
     "output_type": "execute_result"
    }
   ],
   "source": [
    "#variance of data along original axes\n",
    "np.var(df1.X1) + np.var(df1.X2) + np.var(df1.X3)"
   ]
  },
  {
   "cell_type": "code",
   "execution_count": null,
   "metadata": {
    "colab": {
     "base_uri": "https://localhost:8080/"
    },
    "id": "08nc36ZCOPGm",
    "outputId": "71ccdca6-48c4-425b-f699-999cd68aaad3"
   },
   "outputs": [
    {
     "data": {
      "text/plain": [
       "74.40000000000002"
      ]
     },
     "execution_count": 10,
     "metadata": {},
     "output_type": "execute_result"
    }
   ],
   "source": [
    "#variance of data along principal component axes\n",
    "#show eigen values of covariance matrix in decreasing order\n",
    "np.sum(pca.explained_variance_)"
   ]
  },
  {
   "cell_type": "code",
   "execution_count": null,
   "metadata": {
    "colab": {
     "base_uri": "https://localhost:8080/"
    },
    "id": "2socTA0HOcN3",
    "outputId": "47d4b81c-7c9f-4f9a-ce17-c5b397a3c2ae"
   },
   "outputs": [
    {
     "name": "stdout",
     "output_type": "stream",
     "text": [
      "[73.71803604  0.38355337  0.29841058]\n",
      "[0.99083382 0.00515529 0.00401089]\n",
      "[0.99083382 0.99598911 1.        ]\n"
     ]
    }
   ],
   "source": [
    "#understand how much variance captured by each principal component\n",
    "print(pca.explained_variance_)\n",
    "print(pca.explained_variance_ratio_)\n",
    "print(pca.explained_variance_ratio_.cumsum())"
   ]
  },
  {
   "cell_type": "code",
   "execution_count": null,
   "metadata": {
    "colab": {
     "base_uri": "https://localhost:8080/"
    },
    "id": "T2dLoMuuOsOI",
    "outputId": "1f6deb4a-9760-46ee-8d12-dc376d4d4989"
   },
   "outputs": [
    {
     "data": {
      "text/plain": [
       "array([ 0.04423488,  0.45128105, -0.89128486])"
      ]
     },
     "execution_count": 12,
     "metadata": {},
     "output_type": "execute_result"
    }
   ],
   "source": [
    "#show the principal components\n",
    "#show eighen vectors of covariance matrix of df\n",
    "pca.components_[0]\n",
    "pca.components_[1]\n",
    "pca.components_[2]"
   ]
  },
  {
   "cell_type": "code",
   "execution_count": null,
   "metadata": {
    "colab": {
     "base_uri": "https://localhost:8080/"
    },
    "id": "aIGGnH8gPDDT",
    "outputId": "d0b38b66-858e-4aa5-e1ff-991d363451c3"
   },
   "outputs": [
    {
     "data": {
      "text/plain": [
       "array([-0.43405692, -0.79486757, -0.42400487])"
      ]
     },
     "execution_count": 15,
     "metadata": {},
     "output_type": "execute_result"
    }
   ],
   "source": [
    "pca.components_[0]"
   ]
  },
  {
   "cell_type": "code",
   "execution_count": null,
   "metadata": {
    "id": "x_QcmOEiOw0a"
   },
   "outputs": [],
   "source": [
    "#specify number of required dimensions as n_components\n",
    "pca = decomposition.PCA(n_components=2)\n",
    "pca.fit(df1)\n",
    "pca.explained_variance_\n",
    "pca.components_[0]\n",
    "pca.components_[1]\n",
    "df1_pca = pca.transform(df1)"
   ]
  },
  {
   "cell_type": "code",
   "execution_count": null,
   "metadata": {
    "colab": {
     "base_uri": "https://localhost:8080/"
    },
    "id": "RlFA4LipO5S-",
    "outputId": "f727e91d-c02a-4ad9-e2b7-b4a8386bb0ea"
   },
   "outputs": [
    {
     "data": {
      "text/plain": [
       "array([[-4.17288843e+00, -1.98923940e-04],\n",
       "       [ 1.46146195e+01, -1.71937350e-01],\n",
       "       [ 3.51842744e-01,  1.00363798e-01],\n",
       "       [-3.73883152e+00,  8.99599868e-01],\n",
       "       [-7.05474229e+00, -8.27827393e-01]])"
      ]
     },
     "execution_count": 14,
     "metadata": {},
     "output_type": "execute_result"
    }
   ],
   "source": [
    "df1_pca"
   ]
  }
 ],
 "metadata": {
  "colab": {
   "provenance": []
  },
  "kernelspec": {
   "display_name": "Python 3 (ipykernel)",
   "language": "python",
   "name": "python3"
  },
  "language_info": {
   "codemirror_mode": {
    "name": "ipython",
    "version": 3
   },
   "file_extension": ".py",
   "mimetype": "text/x-python",
   "name": "python",
   "nbconvert_exporter": "python",
   "pygments_lexer": "ipython3",
   "version": "3.11.5"
  }
 },
 "nbformat": 4,
 "nbformat_minor": 1
}
